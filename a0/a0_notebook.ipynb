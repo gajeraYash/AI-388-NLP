{
 "cells": [
  {
   "cell_type": "markdown",
   "id": "a14ea705",
   "metadata": {},
   "source": [
    "### Assignment 0: Linear Algebra, Probability, and Python Warmup (UNGRADED)\n",
    "\n",
    "*Goals* The main goal of this assignment is for you to assess whether you have adequate preparation for\n",
    "the course. It’s fine to not be familiar with every concept here. However, if you find yourself struggling with\n",
    "much of this assignment, you should ask the course staff whether this course is appropriate for you given\n",
    "your background. This assignment is designed to take around 2 hours.\n",
    "This assignment is ungraded! If you wish to discuss any of it, feel free to ask the course staff."
   ]
  },
  {
   "cell_type": "markdown",
   "id": "1ba1b8c2",
   "metadata": {},
   "source": [
    "## 1 Linear Algebra\n",
    "*Q1* For each of the following matrices, give the answer or write “undefined” if the operation is invalid.\n",
    "You do not need to show work."
   ]
  },
  {
   "cell_type": "code",
   "execution_count": 18,
   "id": "34808568",
   "metadata": {},
   "outputs": [
    {
     "name": "stdout",
     "output_type": "stream",
     "text": [
      "#a shape of A: (2, 3), shape of B: (2, 1)\n",
      " Matrix A:\n",
      "[[1 2 4]\n",
      " [3 4 2]]\n",
      " Matrix B:\n",
      "[[4]\n",
      " [2]]\n",
      "Error: matmul: Input operand 1 has a mismatch in its core dimension 0, with gufunc signature (n?,k),(k,m?)->(n?,m?) (size 2 is different from 3)\n",
      "#b shape of A: (2, 3), shape of B: (3, 1)\n",
      " Matrix A:\n",
      "[[1 2 4]\n",
      " [3 4 2]]\n",
      " Matrix B:\n",
      "[[4]\n",
      " [5]\n",
      " [2]]\n",
      "Result\n",
      " [[22]\n",
      " [36]]\n",
      "#c shape of A: (2, 3), shape of B: (1, 2)\n",
      " Matrix A:\n",
      "[[1 2 4]\n",
      " [3 4 2]]\n",
      " Matrix B:\n",
      "[[4 2]]\n",
      "Error: matmul: Input operand 1 has a mismatch in its core dimension 0, with gufunc signature (n?,k),(k,m?)->(n?,m?) (size 1 is different from 3)\n",
      "#d shape of A: (1, 3), shape of B: (3, 1)\n",
      " Matrix A:\n",
      "[[6 2 4]]\n",
      " Matrix B:\n",
      "[[5]\n",
      " [2]\n",
      " [1]]\n",
      "Result\n",
      " [[38]]\n"
     ]
    }
   ],
   "source": [
    "import numpy as np\n",
    "\n",
    "# A\n",
    "matrix_a = np.array([[1, 2 , 4], [3, 4 , 2]])\n",
    "matrix_b = np.array([[4], [2]])\n",
    "print(f\"#a shape of A: {matrix_a.shape}, shape of B: {matrix_b.shape}\\n Matrix A:\\n{matrix_a}\\n Matrix B:\\n{matrix_b}\")\n",
    "try :\n",
    "    result = np.matmul(matrix_a, matrix_b)\n",
    "    print(\"Result\\n\", result)\n",
    "except ValueError as e:\n",
    "    print(\"Error:\", e)\n",
    "\n",
    "# B\n",
    "matrix_a = np.array([[1, 2 , 4], [3, 4 , 2]])\n",
    "matrix_b = np.array([[4], [5], [2]])\n",
    "print(f\"#b shape of A: {matrix_a.shape}, shape of B: {matrix_b.shape}\\n Matrix A:\\n{matrix_a}\\n Matrix B:\\n{matrix_b}\")\n",
    "try :\n",
    "    result = np.matmul(matrix_a, matrix_b)\n",
    "    print(\"Result\\n\", result)\n",
    "except ValueError as e:\n",
    "    print(\"Error:\", e)\n",
    "\n",
    "# C\n",
    "matrix_a = np.array([[1, 2 , 4], [3, 4 , 2]])\n",
    "matrix_b = np.array([[4, 2]])\n",
    "print(\"#c shape of A: {}, shape of B: {}\\n Matrix A:\\n{}\\n Matrix B:\\n{}\".format(matrix_a.shape, matrix_b.shape, matrix_a, matrix_b))\n",
    "try :\n",
    "    result = np.matmul(matrix_a, matrix_b)\n",
    "    print(\"Result\\n\", result)\n",
    "except ValueError as e:\n",
    "    print(\"Error:\", e)\n",
    "\n",
    "# D\n",
    "matrix_a = np.array([[6], [2], [4]]).transpose()\n",
    "matrix_b = np.array([[5], [2], [1]])\n",
    "print(f\"#d shape of A: {matrix_a.shape}, shape of B: {matrix_b.shape}\\n Matrix A:\\n{matrix_a}\\n Matrix B:\\n{matrix_b}\")\n",
    "try :\n",
    "    result = np.matmul(matrix_a, matrix_b)\n",
    "    print(\"Result\\n\", result)\n",
    "except ValueError as e:\n",
    "    print(\"Error:\", e)"
   ]
  },
  {
   "cell_type": "markdown",
   "id": "c39a2ebc",
   "metadata": {},
   "source": [
    "*Q2* Write a matrix operation capturing the following computation. Your answer should be a mathematical\n",
    "expression involving the vectors/matrices A, B, and C. Your math expression does not need to account for\n",
    "initialization of A, B, and C; it only needs to return the same value as sum given the same inputs."
   ]
  },
  {
   "cell_type": "code",
   "execution_count": 24,
   "id": "8964c76d",
   "metadata": {},
   "outputs": [
    {
     "data": {
      "text/plain": [
       "np.float64(0.36381636890776925)"
      ]
     },
     "execution_count": 24,
     "metadata": {},
     "output_type": "execute_result"
    }
   ],
   "source": [
    "A = np.random.rand(3)\n",
    "B = np.random.rand(3,2)\n",
    "C = np.random.rand(2)\n",
    "sum = 0.0\n",
    "for i in range(0,3):\n",
    "    for j in range(0,2):\n",
    "        sum += A[i] * B[i][j] * C[j]\n",
    "sum"
   ]
  },
  {
   "cell_type": "markdown",
   "id": "007ca26f",
   "metadata": {},
   "source": [
    "*Q3* Consider the following joint distributions\n",
    "| P(X,Y) | Y=1 | Y=2 | Y=4 |\n",
    "|---|---|---|---|\n",
    "| X=1 | 0.1 | 0.2 | 0.2 |\n",
    "| X=2 | 0.05 | 0.1 | 0.1 |\n",
    "| X=3 | 0.1 | 0.1 | 0.05 |"
   ]
  },
  {
   "cell_type": "code",
   "execution_count": 29,
   "id": "0379e138",
   "metadata": {},
   "outputs": [
    {
     "name": "stdout",
     "output_type": "stream",
     "text": [
      "P(X|Y=2): [0.5  0.25 0.25]\n",
      "P(Y|X=1): [0.2 0.4 0.4]\n",
      "P(X=1,Y=1) = 0.1 , P(X=1)P(Y=1) = 0.125\n",
      "Independent P(X=0,Y=0): 0.1\n",
      "Bounds if not independent: [0, 0.2]\n"
     ]
    }
   ],
   "source": [
    "import numpy as np\n",
    "\n",
    "# Q3 joint distribution table\n",
    "# Rows = X values (1,2,3), Cols = Y values (1,2,3)\n",
    "joint_dist = np.array([\n",
    "    [0.1, 0.2, 0.2],   # X=1\n",
    "    [0.05, 0.1, 0.1],  # X=2\n",
    "    [0.1, 0.1, 0.05]   # X=3\n",
    "])\n",
    "\n",
    "# Marginals\n",
    "px = joint_dist.sum(axis=1)  # sum over Y\n",
    "py = joint_dist.sum(axis=0)  # sum over X\n",
    "\n",
    "# a) P(X|Y=2)\n",
    "y2_col = joint_dist[:, 1]\n",
    "p_y2 = y2_col.sum()\n",
    "p_x_given_y2 = y2_col / p_y2\n",
    "print(\"P(X|Y=2):\", p_x_given_y2)\n",
    "\n",
    "# b) P(Y|X=1)\n",
    "x1_row = joint_dist[0, :]\n",
    "p_x1 = x1_row.sum()\n",
    "p_y_given_x1 = x1_row / p_x1\n",
    "print(\"P(Y|X=1):\", p_y_given_x1)\n",
    "\n",
    "# c) Check independence (compare P(X=1)*P(Y=1) with P(X=1,Y=1))\n",
    "p_x1_y1 = joint_dist[0,0]\n",
    "ind_check = px[0]*py[0]\n",
    "print(\"P(X=1,Y=1) =\", p_x1_y1, \", P(X=1)P(Y=1) =\", ind_check)\n",
    "\n",
    "# Q4\n",
    "# Marginals given\n",
    "px_q4 = np.array([0.5, 0.5])\n",
    "py_q4 = np.array([0.2, 0.8])\n",
    "\n",
    "# a) If independent: P(X=0,Y=0) = P(X=0)P(Y=0)\n",
    "ind_val = px_q4[0]*py_q4[0]\n",
    "print(\"Independent P(X=0,Y=0):\", ind_val)\n",
    "\n",
    "# b) If not independent: bounds\n",
    "# Lower bound = 0, upper bound = min(P(X=0), P(Y=0))\n",
    "lower_bound = 0\n",
    "upper_bound = min(px_q4[0], py_q4[0])\n",
    "print(\"Bounds if not independent: [{}, {}]\".format(lower_bound, upper_bound))\n"
   ]
  }
 ],
 "metadata": {
  "kernelspec": {
   "display_name": ".venv",
   "language": "python",
   "name": "python3"
  },
  "language_info": {
   "codemirror_mode": {
    "name": "ipython",
    "version": 3
   },
   "file_extension": ".py",
   "mimetype": "text/x-python",
   "name": "python",
   "nbconvert_exporter": "python",
   "pygments_lexer": "ipython3",
   "version": "3.11.0"
  }
 },
 "nbformat": 4,
 "nbformat_minor": 5
}
